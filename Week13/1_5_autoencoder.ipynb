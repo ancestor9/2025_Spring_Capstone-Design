{
  "cells": [
    {
      "cell_type": "markdown",
      "metadata": {
        "id": "view-in-github",
        "colab_type": "text"
      },
      "source": [
        "<a href=\"https://colab.research.google.com/github/ancestor9/2025_Spring_Capstone-Design/blob/main/Week13/1_5_autoencoder.ipynb\" target=\"_parent\"><img src=\"https://colab.research.google.com/assets/colab-badge.svg\" alt=\"Open In Colab\"/></a>"
      ]
    },
    {
      "cell_type": "markdown",
      "metadata": {
        "id": "_465GWXCOzmg"
      },
      "source": [
        "# **GAN**"
      ]
    },
    {
      "cell_type": "markdown",
      "source": [
        "## **Variational Auto Encoder - deep learning**\n",
        "- Unsupervised learning\n",
        "- 비선형데이터의 차원축소, 노이즈제거 이미지 복원, 새로운 이미지 생성 알고리즘\n",
        "<img src='https://blog.kakaocdn.net/dn/qLLF6/btqMOy3Wp7C/Cyi04XYJTecOhJwGlJ71e0/img.png' width=800>"
      ],
      "metadata": {
        "id": "YYHlgg634uXp"
      }
    },
    {
      "cell_type": "markdown",
      "source": [
        "- https://kvfrans.com/variational-autoencoders-explained/\n",
        "\n",
        "### **A. Autoencoder**\n",
        "\n",
        "<img src='https://kvfrans.com/content/images/2016/08/autoenc.jpg' width=600>\n",
        "\n",
        "###**B. Variational Autoencoder**\n",
        "\n",
        "<img src='https://kvfrans.com/content/images/2016/08/vae.jpg' width=600>\n",
        "\n",
        "###**C. Generative model using Variational Autoencoder**\n",
        "<img src= 'https://miro.medium.com/max/1313/1*woWzbXU2bmshM1czEur72g.gif'>"
      ],
      "metadata": {
        "id": "g9EZicgi4u3h"
      }
    },
    {
      "cell_type": "markdown",
      "metadata": {
        "id": "cuafIwIe3nnC"
      },
      "source": [
        "### Scikit-learn implements efficient kernel density estimation\n",
        "- kde using either a Ball Tree or KD Tree structure, through the KernelDensity estimator.\n",
        "- The available kernels are shown as belows\n",
        "- https://scikit-learn.org/stable/modules/density.html#kernel-density"
      ]
    },
    {
      "cell_type": "markdown",
      "source": [
        "# 📦 1. 필요한 라이브러리 불러오기"
      ],
      "metadata": {
        "id": "RW4ow4E2XBwf"
      }
    },
    {
      "cell_type": "code",
      "source": [
        "import tensorflow as tf\n",
        "from tensorflow.keras import layers\n",
        "import numpy as np\n",
        "import matplotlib.pyplot as plt\n"
      ],
      "metadata": {
        "id": "9bqBD_8eW9n3"
      },
      "execution_count": 2,
      "outputs": []
    },
    {
      "cell_type": "markdown",
      "source": [
        "# 🧠 2. 데이터셋 준비 (MNIST)"
      ],
      "metadata": {
        "id": "Rx-dzGBIXG7H"
      }
    },
    {
      "cell_type": "code",
      "source": [
        "# MNIST 데이터셋 로드\n",
        "(x_train, _), (x_test, _) = tf.keras.datasets.mnist.load_data()\n",
        "\n",
        "# 데이터 정규화 및 차원 확장\n",
        "x_train = x_train.astype('float32') / 255.\n",
        "x_train = np.reshape(x_train, (-1, 28, 28, 1))\n",
        "x_test = x_test.astype('float32') / 255.\n",
        "x_test = np.reshape(x_test, (-1, 28, 28, 1))"
      ],
      "metadata": {
        "id": "ofzqs1UQXI2v"
      },
      "execution_count": 11,
      "outputs": []
    },
    {
      "cell_type": "markdown",
      "source": [
        "# 🏗️ 3. 모델 하이퍼파라미터 설정"
      ],
      "metadata": {
        "id": "GhyyV_alXSA_"
      }
    },
    {
      "cell_type": "code",
      "source": [
        "latent_dim = 2  # 잠재 공간의 차원 수\n",
        "# 잠재 공간(latent space)의 차원을 2로 설정하여 시각화가 용이하도록 합니다."
      ],
      "metadata": {
        "id": "zlIsEZ7mXV02"
      },
      "execution_count": 4,
      "outputs": []
    },
    {
      "cell_type": "markdown",
      "source": [
        "# 🧱 4. 인코더 정의\n",
        "### 예를들어 : 인코더는 입력 이미지를 잠재 공간의 평균(z_mean)과 로그 분산(z_log_var)으로 매핑"
      ],
      "metadata": {
        "id": "tag0PNUEXaKX"
      }
    },
    {
      "cell_type": "code",
      "source": [
        "def build_encoder(latent_dim):\n",
        "    encoder_inputs = tf.keras.Input(shape=(28, 28, 1))\n",
        "    x = layers.Conv2D(32, 3, activation='relu', strides=2, padding='same')(encoder_inputs)\n",
        "    x = layers.Conv2D(64, 3, activation='relu', strides=2, padding='same')(x)\n",
        "    x = layers.Flatten()(x)\n",
        "    x = layers.Dense(16, activation='relu')(x)\n",
        "    z_mean = layers.Dense(latent_dim, name='z_mean')(x)\n",
        "    z_log_var = layers.Dense(latent_dim, name='z_log_var')(x)\n",
        "    z = Sampling()([z_mean, z_log_var])\n",
        "    encoder = tf.keras.Model(encoder_inputs, [z_mean, z_log_var, z], name='encoder')\n",
        "    return encoder\n",
        "\n",
        "encoder = build_encoder(latent_dim)"
      ],
      "metadata": {
        "id": "WCRPd3qVXdMD"
      },
      "execution_count": 15,
      "outputs": []
    },
    {
      "cell_type": "markdown",
      "source": [
        "# 🔁 5. 재매개변수화 트릭"
      ],
      "metadata": {
        "id": "jDCforYLX2cu"
      }
    },
    {
      "cell_type": "code",
      "source": [
        "# 재매개변수화 함수 정의\n",
        "class Sampling(layers.Layer):\n",
        "    \"\"\"Uses (z_mean, z_log_var) to sample z, the vector encoding a digit.\"\"\"\n",
        "\n",
        "    def call(self, inputs):\n",
        "        z_mean, z_log_var = inputs\n",
        "        batch = tf.shape(z_mean)[0]\n",
        "        dim = tf.shape(z_mean)[1]\n",
        "        epsilon = tf.random.normal(shape=(batch, dim))\n",
        "        return z_mean + tf.exp(0.5 * z_log_var) * epsilon"
      ],
      "metadata": {
        "id": "5YOb0CTUX7fH"
      },
      "execution_count": 16,
      "outputs": []
    },
    {
      "cell_type": "markdown",
      "source": [
        "# 🧱 6. 디코더 정의\n",
        "### 디코더는 잠재 벡터를 입력으로 받아 원래 이미지로 복원"
      ],
      "metadata": {
        "id": "qT3v400IYDY-"
      }
    },
    {
      "cell_type": "code",
      "source": [
        "# 디코더 모델 정의\n",
        "def build_decoder(latent_dim):\n",
        "    decoder_inputs = tf.keras.Input(shape=(latent_dim,))\n",
        "    x = layers.Dense(7 * 7 * 64, activation='relu')(decoder_inputs)\n",
        "    x = layers.Reshape((7, 7, 64))(x)\n",
        "    x = layers.Conv2DTranspose(64, 3, activation='relu', strides=2, padding='same')(x)\n",
        "    x = layers.Conv2DTranspose(32, 3, activation='relu', strides=2, padding='same')(x)\n",
        "    decoder_outputs = layers.Conv2DTranspose(1, 3, activation='sigmoid', padding='same')(x)\n",
        "    decoder = tf.keras.Model(decoder_inputs, decoder_outputs, name='decoder')\n",
        "    return decoder\n",
        "\n",
        "decoder = build_decoder(latent_dim)\n"
      ],
      "metadata": {
        "id": "-jnsOAWyYMaG"
      },
      "execution_count": 17,
      "outputs": []
    },
    {
      "cell_type": "markdown",
      "source": [
        "# 🔗 7. VAE 모델 구성 및 손실 함수 정의"
      ],
      "metadata": {
        "id": "uGLJv309YRz-"
      }
    },
    {
      "cell_type": "code",
      "source": [
        "class VAE(tf.keras.Model):\n",
        "    def __init__(self, encoder, decoder, **kwargs):\n",
        "        super().__init__(**kwargs)\n",
        "        self.encoder = encoder\n",
        "        self.decoder = decoder\n",
        "        self.total_loss_tracker = tf.keras.metrics.Mean(name=\"total_loss\")\n",
        "        self.reconstruction_loss_tracker = tf.keras.metrics.Mean(\n",
        "            name=\"reconstruction_loss\"\n",
        "        )\n",
        "        self.kl_loss_tracker = tf.keras.metrics.Mean(name=\"kl_loss\")\n",
        "\n",
        "    @property\n",
        "    def metrics(self):\n",
        "        return [\n",
        "            self.total_loss_tracker,\n",
        "            self.reconstruction_loss_tracker,\n",
        "            self.kl_loss_tracker,\n",
        "        ]\n",
        "\n",
        "        # Add the call method for the forward pass\n",
        "    def call(self, data):\n",
        "        z_mean, z_log_var, z = self.encoder(data)\n",
        "        reconstruction = self.decoder(z)\n",
        "        return reconstruction # Return the reconstructed output\n",
        "\n",
        "    def train_step(self, data):\n",
        "        # Check if data is a tuple (input, target)\n",
        "        if isinstance(data, tuple):\n",
        "            data = data[0] # Use only the input data\n",
        "\n",
        "        with tf.GradientTape() as tape:\n",
        "            z_mean, z_log_var, z = self.encoder(data)\n",
        "            reconstruction = self.decoder(z)\n",
        "            reconstruction_loss = tf.reduce_mean(\n",
        "                tf.keras.losses.binary_crossentropy(data, reconstruction)\n",
        "            )\n",
        "            reconstruction_loss *= 28 * 28\n",
        "            kl_loss = 1 + z_log_var - tf.square(z_mean) - tf.exp(z_log_var)\n",
        "            kl_loss = tf.reduce_sum(kl_loss, axis=1)\n",
        "            kl_loss *= -0.5\n",
        "            total_loss = reconstruction_loss + tf.reduce_mean(kl_loss)\n",
        "        grads = tape.gradient(total_loss, self.trainable_weights)\n",
        "        self.optimizer.apply_gradients(zip(grads, self.trainable_weights))\n",
        "        self.total_loss_tracker.update_state(total_loss)\n",
        "        self.reconstruction_loss_tracker.update_state(reconstruction_loss)\n",
        "        self.kl_loss_tracker.update_state(kl_loss)\n",
        "        return {\n",
        "            \"loss\": self.total_loss_tracker.result(),\n",
        "            \"reconstruction_loss\": self.reconstruction_loss_tracker.result(),\n",
        "            \"kl_loss\": self.kl_loss_tracker.result(),\n",
        "        }\n",
        "\n",
        "# Instantiate the VAE model\n",
        "vae = VAE(encoder, decoder)\n"
      ],
      "metadata": {
        "id": "gSfxkHpWYWE-"
      },
      "execution_count": 22,
      "outputs": []
    },
    {
      "cell_type": "markdown",
      "source": [
        "# ⚙️ 8. 손실 함수 정의 (재구성 손실 + KL 발산)"
      ],
      "metadata": {
        "id": "Akj5wZAHYYVO"
      }
    },
    {
      "cell_type": "code",
      "source": [
        "# ⚙️ 8. 손실 함수 정의 (재구성 손실 + KL 발산)\n",
        "vae.compile(optimizer='adam', loss='mse') # Provide a placeholder loss like 'mse'\n",
        "vae.fit(x_train, x_train, epochs=5, batch_size=128, validation_data=(x_test, x_test))"
      ],
      "metadata": {
        "colab": {
          "base_uri": "https://localhost:8080/"
        },
        "id": "w7YKaddCYZoO",
        "outputId": "25754ff1-132b-4cbc-b685-a2c17cef3092"
      },
      "execution_count": 25,
      "outputs": [
        {
          "output_type": "stream",
          "name": "stdout",
          "text": [
            "Epoch 1/5\n",
            "\u001b[1m469/469\u001b[0m \u001b[32m━━━━━━━━━━━━━━━━━━━━\u001b[0m\u001b[37m\u001b[0m \u001b[1m79s\u001b[0m 161ms/step - kl_loss: 5.4353 - loss: 162.2973 - reconstruction_loss: 156.8620 - val_kl_loss: 0.0000e+00 - val_reconstruction_loss: 0.0000e+00 - val_total_loss: 0.0000e+00\n",
            "Epoch 2/5\n",
            "\u001b[1m469/469\u001b[0m \u001b[32m━━━━━━━━━━━━━━━━━━━━\u001b[0m\u001b[37m\u001b[0m \u001b[1m83s\u001b[0m 164ms/step - kl_loss: 5.5990 - loss: 159.7611 - reconstruction_loss: 154.1620 - val_kl_loss: 0.0000e+00 - val_reconstruction_loss: 0.0000e+00 - val_total_loss: 0.0000e+00\n",
            "Epoch 3/5\n",
            "\u001b[1m469/469\u001b[0m \u001b[32m━━━━━━━━━━━━━━━━━━━━\u001b[0m\u001b[37m\u001b[0m \u001b[1m81s\u001b[0m 162ms/step - kl_loss: 5.7122 - loss: 157.8386 - reconstruction_loss: 152.1265 - val_kl_loss: 0.0000e+00 - val_reconstruction_loss: 0.0000e+00 - val_total_loss: 0.0000e+00\n",
            "Epoch 4/5\n",
            "\u001b[1m469/469\u001b[0m \u001b[32m━━━━━━━━━━━━━━━━━━━━\u001b[0m\u001b[37m\u001b[0m \u001b[1m81s\u001b[0m 161ms/step - kl_loss: 5.7926 - loss: 156.5445 - reconstruction_loss: 150.7519 - val_kl_loss: 0.0000e+00 - val_reconstruction_loss: 0.0000e+00 - val_total_loss: 0.0000e+00\n",
            "Epoch 5/5\n",
            "\u001b[1m469/469\u001b[0m \u001b[32m━━━━━━━━━━━━━━━━━━━━\u001b[0m\u001b[37m\u001b[0m \u001b[1m83s\u001b[0m 164ms/step - kl_loss: 5.8355 - loss: 155.6042 - reconstruction_loss: 149.7688 - val_kl_loss: 0.0000e+00 - val_reconstruction_loss: 0.0000e+00 - val_total_loss: 0.0000e+00\n"
          ]
        },
        {
          "output_type": "execute_result",
          "data": {
            "text/plain": [
              "<keras.src.callbacks.history.History at 0x7e921a853410>"
            ]
          },
          "metadata": {},
          "execution_count": 25
        }
      ]
    },
    {
      "cell_type": "markdown",
      "source": [
        "# 🖼️ 10. 결과 시각화"
      ],
      "metadata": {
        "id": "R045i3m5Zqr3"
      }
    },
    {
      "cell_type": "code",
      "source": [
        "# 테스트 데이터에서 재구성된 이미지 시각화\n",
        "import matplotlib.pyplot as plt\n",
        "\n",
        "def plot_reconstructed_images(model, data):\n",
        "    decoded_imgs = model.predict(data)\n",
        "    n = 10\n",
        "    plt.figure(figsize=(20, 4))\n",
        "    for i in range(n):\n",
        "        # 원본 이미지\n",
        "        ax = plt.subplot(2, n, i + 1)\n",
        "        plt.imshow(data[i].reshape(28, 28), cmap='gray')\n",
        "        plt.axis('off')\n",
        "\n",
        "        # 재구성된 이미지\n",
        "        ax = plt.subplot(2, n, i + 1 + n)\n",
        "        plt.imshow(decoded_imgs[i].reshape(28, 28), cmap='gray')\n",
        "        plt.axis('off')\n",
        "    plt.show()\n",
        "\n",
        "plot_reconstructed_images(vae, x_test)\n"
      ],
      "metadata": {
        "colab": {
          "base_uri": "https://localhost:8080/",
          "height": 354
        },
        "id": "f3Me3Rt0ZvIg",
        "outputId": "30ffd6c6-761c-4ca8-d037-d32fd8574c89"
      },
      "execution_count": 26,
      "outputs": [
        {
          "output_type": "stream",
          "name": "stdout",
          "text": [
            "\u001b[1m313/313\u001b[0m \u001b[32m━━━━━━━━━━━━━━━━━━━━\u001b[0m\u001b[37m\u001b[0m \u001b[1m6s\u001b[0m 17ms/step\n"
          ]
        },
        {
          "output_type": "display_data",
          "data": {
            "text/plain": [
              "<Figure size 2000x400 with 20 Axes>"
            ],
            "image/png": "[encoded data removed]"
          },
          "metadata": {}
        }
      ]
    },
    {
      "cell_type": "markdown",
      "metadata": {
        "id": "pEmGOKgj3nnB"
      },
      "source": [
        "# End"
      ]
    }
  ],
  "metadata": {
    "anaconda-cloud": {},
    "colab": {
      "provenance": [],
      "include_colab_link": true
    },
    "kernelspec": {
      "display_name": "Python 3 (ipykernel)",
      "language": "python",
      "name": "python3"
    },
    "language_info": {
      "codemirror_mode": {
        "name": "ipython",
        "version": 3
      },
      "file_extension": ".py",
      "mimetype": "text/x-python",
      "name": "python",
      "nbconvert_exporter": "python",
      "pygments_lexer": "ipython3",
      "version": "3.8.8"
    }
  },
  "nbformat": 4,
  "nbformat_minor": 0
}